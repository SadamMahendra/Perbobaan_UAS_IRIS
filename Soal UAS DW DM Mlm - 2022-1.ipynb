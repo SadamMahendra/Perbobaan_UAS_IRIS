{
 "cells": [
  {
   "cell_type": "markdown",
   "metadata": {
    "id": "7dnuNpwJkN1h"
   },
   "source": [
    "# SOAL UAS"
   ]
  },
  {
   "cell_type": "markdown",
   "metadata": {
    "id": "wgRfUxh232lI"
   },
   "source": [
    "### Soal :\n",
    "\n",
    "- Download dataset iris.csv di salah satu public dataset : keggle, UCI, dsbnya\n",
    "- Gunakan Dataset : iris.cvs, pilih satu algoritma yang terbaik berdasarkan evaluasi, simpan menggunakan pickle, siapkan app py, deploy dengan streamlit dan upload ke server stremlit"
   ]
  },
  {
   "cell_type": "code",
   "execution_count": 41,
   "metadata": {
    "id": "ml9bZhgw5iun",
    "outputId": "1198b9f6-9375-4f8f-bf59-2611cecd971f",
    "scrolled": false
   },
   "outputs": [
    {
     "data": {
      "text/html": [
       "<div>\n",
       "<style scoped>\n",
       "    .dataframe tbody tr th:only-of-type {\n",
       "        vertical-align: middle;\n",
       "    }\n",
       "\n",
       "    .dataframe tbody tr th {\n",
       "        vertical-align: top;\n",
       "    }\n",
       "\n",
       "    .dataframe thead th {\n",
       "        text-align: right;\n",
       "    }\n",
       "</style>\n",
       "<table border=\"1\" class=\"dataframe\">\n",
       "  <thead>\n",
       "    <tr style=\"text-align: right;\">\n",
       "      <th></th>\n",
       "      <th>Id</th>\n",
       "      <th>SepalLengthCm</th>\n",
       "      <th>SepalWidthCm</th>\n",
       "      <th>PetalLengthCm</th>\n",
       "      <th>PetalWidthCm</th>\n",
       "      <th>Species</th>\n",
       "    </tr>\n",
       "  </thead>\n",
       "  <tbody>\n",
       "    <tr>\n",
       "      <th>0</th>\n",
       "      <td>1</td>\n",
       "      <td>5.1</td>\n",
       "      <td>3.5</td>\n",
       "      <td>1.4</td>\n",
       "      <td>0.2</td>\n",
       "      <td>Iris-setosa</td>\n",
       "    </tr>\n",
       "    <tr>\n",
       "      <th>1</th>\n",
       "      <td>2</td>\n",
       "      <td>4.9</td>\n",
       "      <td>3.0</td>\n",
       "      <td>1.4</td>\n",
       "      <td>0.2</td>\n",
       "      <td>Iris-setosa</td>\n",
       "    </tr>\n",
       "    <tr>\n",
       "      <th>2</th>\n",
       "      <td>3</td>\n",
       "      <td>4.7</td>\n",
       "      <td>3.2</td>\n",
       "      <td>1.3</td>\n",
       "      <td>0.2</td>\n",
       "      <td>Iris-setosa</td>\n",
       "    </tr>\n",
       "    <tr>\n",
       "      <th>3</th>\n",
       "      <td>4</td>\n",
       "      <td>4.6</td>\n",
       "      <td>3.1</td>\n",
       "      <td>1.5</td>\n",
       "      <td>0.2</td>\n",
       "      <td>Iris-setosa</td>\n",
       "    </tr>\n",
       "    <tr>\n",
       "      <th>4</th>\n",
       "      <td>5</td>\n",
       "      <td>5.0</td>\n",
       "      <td>3.6</td>\n",
       "      <td>1.4</td>\n",
       "      <td>0.2</td>\n",
       "      <td>Iris-setosa</td>\n",
       "    </tr>\n",
       "    <tr>\n",
       "      <th>...</th>\n",
       "      <td>...</td>\n",
       "      <td>...</td>\n",
       "      <td>...</td>\n",
       "      <td>...</td>\n",
       "      <td>...</td>\n",
       "      <td>...</td>\n",
       "    </tr>\n",
       "    <tr>\n",
       "      <th>145</th>\n",
       "      <td>146</td>\n",
       "      <td>6.7</td>\n",
       "      <td>3.0</td>\n",
       "      <td>5.2</td>\n",
       "      <td>2.3</td>\n",
       "      <td>Iris-virginica</td>\n",
       "    </tr>\n",
       "    <tr>\n",
       "      <th>146</th>\n",
       "      <td>147</td>\n",
       "      <td>6.3</td>\n",
       "      <td>2.5</td>\n",
       "      <td>5.0</td>\n",
       "      <td>1.9</td>\n",
       "      <td>Iris-virginica</td>\n",
       "    </tr>\n",
       "    <tr>\n",
       "      <th>147</th>\n",
       "      <td>148</td>\n",
       "      <td>6.5</td>\n",
       "      <td>3.0</td>\n",
       "      <td>5.2</td>\n",
       "      <td>2.0</td>\n",
       "      <td>Iris-virginica</td>\n",
       "    </tr>\n",
       "    <tr>\n",
       "      <th>148</th>\n",
       "      <td>149</td>\n",
       "      <td>6.2</td>\n",
       "      <td>3.4</td>\n",
       "      <td>5.4</td>\n",
       "      <td>2.3</td>\n",
       "      <td>Iris-virginica</td>\n",
       "    </tr>\n",
       "    <tr>\n",
       "      <th>149</th>\n",
       "      <td>150</td>\n",
       "      <td>5.9</td>\n",
       "      <td>3.0</td>\n",
       "      <td>5.1</td>\n",
       "      <td>1.8</td>\n",
       "      <td>Iris-virginica</td>\n",
       "    </tr>\n",
       "  </tbody>\n",
       "</table>\n",
       "<p>150 rows × 6 columns</p>\n",
       "</div>"
      ],
      "text/plain": [
       "      Id  SepalLengthCm  SepalWidthCm  PetalLengthCm  PetalWidthCm  \\\n",
       "0      1            5.1           3.5            1.4           0.2   \n",
       "1      2            4.9           3.0            1.4           0.2   \n",
       "2      3            4.7           3.2            1.3           0.2   \n",
       "3      4            4.6           3.1            1.5           0.2   \n",
       "4      5            5.0           3.6            1.4           0.2   \n",
       "..   ...            ...           ...            ...           ...   \n",
       "145  146            6.7           3.0            5.2           2.3   \n",
       "146  147            6.3           2.5            5.0           1.9   \n",
       "147  148            6.5           3.0            5.2           2.0   \n",
       "148  149            6.2           3.4            5.4           2.3   \n",
       "149  150            5.9           3.0            5.1           1.8   \n",
       "\n",
       "            Species  \n",
       "0       Iris-setosa  \n",
       "1       Iris-setosa  \n",
       "2       Iris-setosa  \n",
       "3       Iris-setosa  \n",
       "4       Iris-setosa  \n",
       "..              ...  \n",
       "145  Iris-virginica  \n",
       "146  Iris-virginica  \n",
       "147  Iris-virginica  \n",
       "148  Iris-virginica  \n",
       "149  Iris-virginica  \n",
       "\n",
       "[150 rows x 6 columns]"
      ]
     },
     "execution_count": 41,
     "metadata": {},
     "output_type": "execute_result"
    }
   ],
   "source": [
    "import pandas as pd\n",
    "from sklearn import datasets\n",
    "\n",
    "df_klasifikasi=pd.read_csv(\"iris.csv\")\n",
    "df_klasifikasi"
   ]
  },
  {
   "cell_type": "code",
   "execution_count": 4,
   "metadata": {
    "id": "P4NxnhOd5iuq",
    "outputId": "e4410431-e607-49be-d63a-59816769e976",
    "scrolled": false
   },
   "outputs": [
    {
     "name": "stdout",
     "output_type": "stream",
     "text": [
      "     SepalLengthCm  SepalWidthCm  PetalLengthCm  PetalWidthCm\n",
      "0              5.1           3.5            1.4           0.2\n",
      "1              4.9           3.0            1.4           0.2\n",
      "2              4.7           3.2            1.3           0.2\n",
      "3              4.6           3.1            1.5           0.2\n",
      "4              5.0           3.6            1.4           0.2\n",
      "..             ...           ...            ...           ...\n",
      "145            6.7           3.0            5.2           2.3\n",
      "146            6.3           2.5            5.0           1.9\n",
      "147            6.5           3.0            5.2           2.0\n",
      "148            6.2           3.4            5.4           2.3\n",
      "149            5.9           3.0            5.1           1.8\n",
      "\n",
      "[150 rows x 4 columns]\n",
      "0         Iris-setosa\n",
      "1         Iris-setosa\n",
      "2         Iris-setosa\n",
      "3         Iris-setosa\n",
      "4         Iris-setosa\n",
      "            ...      \n",
      "145    Iris-virginica\n",
      "146    Iris-virginica\n",
      "147    Iris-virginica\n",
      "148    Iris-virginica\n",
      "149    Iris-virginica\n",
      "Name: Species, Length: 150, dtype: object\n"
     ]
    }
   ],
   "source": [
    "#Feature selection\n",
    "X=df_klasifikasi[['SepalLengthCm','SepalWidthCm','PetalLengthCm','PetalWidthCm']]\n",
    "\n",
    "#Target\n",
    "y=df_klasifikasi['Species']\n",
    "print(X)\n",
    "print(y)"
   ]
  },
  {
   "cell_type": "markdown",
   "metadata": {
    "id": "zV1Bz1a_5iuq"
   },
   "source": [
    "## Normalize Data - Scalling"
   ]
  },
  {
   "cell_type": "code",
   "execution_count": 5,
   "metadata": {
    "id": "LqCo7MpT5iur",
    "scrolled": false
   },
   "outputs": [],
   "source": [
    "from sklearn import preprocessing\n",
    "X = preprocessing.StandardScaler().fit(X).transform(X.astype(float))"
   ]
  },
  {
   "cell_type": "code",
   "execution_count": 6,
   "metadata": {
    "colab": {
     "base_uri": "https://localhost:8080/"
    },
    "id": "ruIXSP8ykYJt",
    "outputId": "7859d0e9-78de-47f9-8a67-af1e3af61396"
   },
   "outputs": [
    {
     "name": "stdout",
     "output_type": "stream",
     "text": [
      "10 data pertama: \n",
      "[[-0.90068117  1.03205722 -1.3412724  -1.31297673]\n",
      " [-1.14301691 -0.1249576  -1.3412724  -1.31297673]\n",
      " [-1.38535265  0.33784833 -1.39813811 -1.31297673]\n",
      " [-1.50652052  0.10644536 -1.2844067  -1.31297673]\n",
      " [-1.02184904  1.26346019 -1.3412724  -1.31297673]\n",
      " [-0.53717756  1.95766909 -1.17067529 -1.05003079]\n",
      " [-1.50652052  0.80065426 -1.3412724  -1.18150376]\n",
      " [-1.02184904  0.80065426 -1.2844067  -1.31297673]\n",
      " [-1.74885626 -0.35636057 -1.3412724  -1.31297673]\n",
      " [-1.14301691  0.10644536 -1.2844067  -1.4444497 ]]\n"
     ]
    }
   ],
   "source": [
    "print(\"10 data pertama: \")\n",
    "print(X[:10])"
   ]
  },
  {
   "cell_type": "code",
   "execution_count": 7,
   "metadata": {
    "colab": {
     "base_uri": "https://localhost:8080/"
    },
    "id": "BJywTnXpkfjR",
    "outputId": "41754426-ddf5-4d74-f6b7-f72c7fca6b48"
   },
   "outputs": [
    {
     "name": "stdout",
     "output_type": "stream",
     "text": [
      "10 label pertama: \n",
      "0    Iris-setosa\n",
      "1    Iris-setosa\n",
      "2    Iris-setosa\n",
      "3    Iris-setosa\n",
      "4    Iris-setosa\n",
      "5    Iris-setosa\n",
      "6    Iris-setosa\n",
      "7    Iris-setosa\n",
      "8    Iris-setosa\n",
      "9    Iris-setosa\n",
      "Name: Species, dtype: object\n"
     ]
    }
   ],
   "source": [
    "print(\"10 label pertama: \")\n",
    "print(y[:10])"
   ]
  },
  {
   "cell_type": "markdown",
   "metadata": {
    "id": "Rr2eFJIGjuJp"
   },
   "source": [
    "# 1. Pembagian Data"
   ]
  },
  {
   "cell_type": "markdown",
   "metadata": {
    "id": "m2USj2Abj16s"
   },
   "source": [
    "## 1.1 Train-Validation Split\n"
   ]
  },
  {
   "cell_type": "markdown",
   "metadata": {
    "id": "eibAAHs24-Y5"
   },
   "source": [
    "Train-Validation split dapat dilakukan dengan menjalankan potongan kode di bawah. Persentase pembagian data training dan data validasi dapat ditentukan dengan mengubah nilai parameter train_size."
   ]
  },
  {
   "cell_type": "code",
   "execution_count": 8,
   "metadata": {
    "id": "k2waL8KngWjk"
   },
   "outputs": [],
   "source": [
    "from sklearn.model_selection import train_test_split\n",
    "\n",
    "X_train, X_test, y_train, y_test = train_test_split(X, y, train_size = 0.7)"
   ]
  },
  {
   "cell_type": "code",
   "execution_count": 9,
   "metadata": {
    "colab": {
     "base_uri": "https://localhost:8080/"
    },
    "id": "t99AAWb1kuNn",
    "outputId": "d4a97924-5805-45de-d60e-52ad46b22a52",
    "scrolled": true
   },
   "outputs": [
    {
     "name": "stdout",
     "output_type": "stream",
     "text": [
      "Banyak data latih setelah dilakukan Train-Validation Split:  105\n",
      "Banyak data uji setelah dilakukan Train-Validation Split:  45\n"
     ]
    }
   ],
   "source": [
    "print(\"Banyak data latih setelah dilakukan Train-Validation Split: \", len(X_train))\n",
    "print(\"Banyak data uji setelah dilakukan Train-Validation Split: \", len(X_test))"
   ]
  },
  {
   "cell_type": "code",
   "execution_count": 10,
   "metadata": {
    "id": "of5srzkM5iuv",
    "outputId": "cb033106-d7c1-4c7c-a189-23d3e4b6f7ef"
   },
   "outputs": [
    {
     "name": "stdout",
     "output_type": "stream",
     "text": [
      "Label Training\n",
      " Iris-virginica     37\n",
      "Iris-setosa        35\n",
      "Iris-versicolor    33\n",
      "Name: Species, dtype: int64\n",
      "\n",
      "Label Prediksi\n",
      " Iris-versicolor    17\n",
      "Iris-setosa        15\n",
      "Iris-virginica     13\n",
      "Name: Species, dtype: int64\n"
     ]
    }
   ],
   "source": [
    "print(\"Label Training\\n\",y_train.value_counts())\n",
    "print(\"\\nLabel Prediksi\\n\",y_test.value_counts())"
   ]
  },
  {
   "cell_type": "markdown",
   "metadata": {
    "id": "e97uWkTgkNCZ"
   },
   "source": [
    "## 1.2\tK-Fold Cross Validation"
   ]
  },
  {
   "cell_type": "markdown",
   "metadata": {
    "id": "kQDyTsDy5NzG"
   },
   "source": [
    "Pustaka Scikit-learn menyediakan wrapper untuk melakukan K-Fold Cross Validation, yaitu dengan meng-import cross_val_score. cross_val_score menerima input berupa model machine learning, data training, label training, dan nilai K. Output yang dikeluarkan akan berupa list berisi akurasi setiap fold, sehingga untuk mendapatkan nilai rata-rata akurasi dari setiap foldnya, dapat menggunakan built-in function mean()."
   ]
  },
  {
   "cell_type": "code",
   "execution_count": 11,
   "metadata": {
    "colab": {
     "base_uri": "https://localhost:8080/"
    },
    "id": "llXBIUEXlO_Q",
    "outputId": "9c8d87ce-0a4e-492f-cf32-f629d26f710b"
   },
   "outputs": [
    {
     "name": "stdout",
     "output_type": "stream",
     "text": [
      "Akurasi model SVM untuk tiap fold:  [0.96666667 1.         0.93333333 0.93333333 1.        ]\n",
      "Akurasi model SVM dengan 5-Fold Cross Validation:  0.9666666666666668\n"
     ]
    }
   ],
   "source": [
    "from sklearn.model_selection import cross_val_score\n",
    "from sklearn.svm import SVC\n",
    "\n",
    "model = SVC(kernel = 'linear', C = 1)\n",
    "scores = cross_val_score(model, X, y, cv = 5)\n",
    "print(\"Akurasi model SVM untuk tiap fold: \", scores)\n",
    "print(\"Akurasi model SVM dengan 5-Fold Cross Validation: \", scores.mean())\n",
    "\n",
    "# y_pred = lr.predict(X_test)\n",
    "# score = metrics.accuracy_score(y_test, y_pred)\n",
    "# print(\"Akurasi dengan menggunakan Logistic Regression: \", score)\n",
    "# from sklearn.metrics import precision_recall_fscore_support\n",
    "# P=precision_recall_fscore_support(y_test, y_pred, average='macro')\n",
    "# print(\"Precison : \",P[0])\n",
    "# print(\"Recall : \",P[1])\n",
    "# print(\"F Score : \",P[2])"
   ]
  },
  {
   "cell_type": "markdown",
   "metadata": {
    "id": "f4iVDE6MmXnE"
   },
   "source": [
    "# 2. Metode Klasifikasi"
   ]
  },
  {
   "cell_type": "markdown",
   "metadata": {
    "id": "SXRI3WsT78mh"
   },
   "source": [
    "Untuk potongan-potongan kode Metode Klasifikasi, data yang akan digunakan adalah data yang telah terbagi oleh proses Train-Validation split. Model akan dilatih dengan X_train dan y_train. Model yang telah terlatih kemudian diuji performa akurasinya menggunakan X_test dan y_test."
   ]
  },
  {
   "cell_type": "markdown",
   "metadata": {
    "id": "ey4qEoMdmagQ"
   },
   "source": [
    "## 2.1 Logistic Regression"
   ]
  },
  {
   "cell_type": "markdown",
   "metadata": {
    "id": "uaTOGwd_9Sr8"
   },
   "source": [
    "Penjelasan lebih lengkap mengenai penggunaan Logistic Regression dapat dilihat pada https://scikit-learn.org/stable/modules/generated/sklearn.linear_model.LogisticRegression.html"
   ]
  },
  {
   "cell_type": "code",
   "execution_count": 12,
   "metadata": {
    "colab": {
     "base_uri": "https://localhost:8080/"
    },
    "id": "8vahsKNQlsiC",
    "outputId": "02fd0d58-d728-45dd-dd5f-1a5e4266c46e"
   },
   "outputs": [
    {
     "name": "stdout",
     "output_type": "stream",
     "text": [
      "Akurasi dengan menggunakan Logistic Regression:  0.9555555555555556\n"
     ]
    }
   ],
   "source": [
    "from sklearn.linear_model import LogisticRegression\n",
    "from sklearn import metrics\n",
    "\n",
    "lr = LogisticRegression()\n",
    "\n",
    "lr.fit(X_train, y_train)\n",
    "y_pred = lr.predict(X_test)\n",
    "score = metrics.accuracy_score(y_test, y_pred)\n",
    "score_lr = score\n",
    "print(\"Akurasi dengan menggunakan Logistic Regression: \", score)"
   ]
  },
  {
   "cell_type": "code",
   "execution_count": 13,
   "metadata": {
    "id": "ZZTcrN6k5iuy"
   },
   "outputs": [
    {
     "name": "stderr",
     "output_type": "stream",
     "text": [
      "C:\\Users\\Sadam\\anaconda3\\lib\\site-packages\\sklearn\\utils\\deprecation.py:87: FutureWarning: Function plot_confusion_matrix is deprecated; Function `plot_confusion_matrix` is deprecated in 1.0 and will be removed in 1.2. Use one of the class methods: ConfusionMatrixDisplay.from_predictions or ConfusionMatrixDisplay.from_estimator.\n",
      "  warnings.warn(msg, category=FutureWarning)\n"
     ]
    },
    {
     "name": "stdout",
     "output_type": "stream",
     "text": [
      "Akurasi Testing NBC: 0.9555555555555556\n",
      "Akurasi dengan menggunakan Logistic Regression:  0.9555555555555556\n",
      "Precison :  0.9547511312217195\n",
      "Recall :  0.9547511312217195\n",
      "F Score :  0.9547511312217195\n"
     ]
    },
    {
     "data": {
      "image/png": "[encoded data removed]",
      "text/plain": [
       "<Figure size 640x480 with 2 Axes>"
      ]
     },
     "metadata": {},
     "output_type": "display_data"
    }
   ],
   "source": [
    "from sklearn.metrics import accuracy_score, plot_confusion_matrix\n",
    "plot_confusion_matrix(lr, X_test, y_test)\n",
    "accuracy = accuracy_score(y_test, y_pred)\n",
    "print('Akurasi Testing NBC:', accuracy)\n",
    "\n",
    "# Ir.fit(X_train, y_train)\n",
    "# y_pred = Ir.predict(X_test)\n",
    "score = metrics.accuracy_score(y_test, y_pred)\n",
    "print(\"Akurasi dengan menggunakan Logistic Regression: \", score)\n",
    "\n",
    "from sklearn.metrics import precision_recall_fscore_support\n",
    "P=precision_recall_fscore_support(y_test, y_pred, average='macro')\n",
    "print(\"Precison : \",P[0])\n",
    "print(\"Recall : \",P[1])\n",
    "print(\"F Score : \",P[2])"
   ]
  },
  {
   "cell_type": "markdown",
   "metadata": {
    "id": "folO6KG2nGak"
   },
   "source": [
    "## 2.2 Support Vector Machine"
   ]
  },
  {
   "cell_type": "markdown",
   "metadata": {
    "id": "gRw2n3sH9MkC"
   },
   "source": [
    "Penjelasan lebih lengkap mengenai penggunaan Support Vector Machine dapat dilihat pada https://scikit-learn.org/stable/modules/generated/sklearn.svm.SVC.html"
   ]
  },
  {
   "cell_type": "code",
   "execution_count": 14,
   "metadata": {
    "colab": {
     "base_uri": "https://localhost:8080/"
    },
    "id": "lQ447Uz4nJ1P",
    "outputId": "9527fe21-c4db-4069-be03-fcee41b10652",
    "scrolled": true
   },
   "outputs": [
    {
     "name": "stdout",
     "output_type": "stream",
     "text": [
      "Akurasi dengan menggunakan Support Vector Machine:  0.8666666666666667\n"
     ]
    }
   ],
   "source": [
    "from sklearn.svm import SVC\n",
    "from sklearn import metrics\n",
    "\n",
    "svm = SVC(\n",
    "  kernel = 'rbf',\n",
    "  C = 1,\n",
    "  gamma = 0.01\n",
    ")\n",
    "\n",
    "svm.fit(X_train, y_train)\n",
    "y_pred = svm.predict(X_test)\n",
    "score = metrics.accuracy_score(y_test, y_pred)\n",
    "score_svm = score\n",
    "print(\"Akurasi dengan menggunakan Support Vector Machine: \", score)"
   ]
  },
  {
   "cell_type": "code",
   "execution_count": 15,
   "metadata": {
    "id": "N0DcGuhm5iuz"
   },
   "outputs": [
    {
     "name": "stderr",
     "output_type": "stream",
     "text": [
      "C:\\Users\\Sadam\\anaconda3\\lib\\site-packages\\sklearn\\utils\\deprecation.py:87: FutureWarning: Function plot_confusion_matrix is deprecated; Function `plot_confusion_matrix` is deprecated in 1.0 and will be removed in 1.2. Use one of the class methods: ConfusionMatrixDisplay.from_predictions or ConfusionMatrixDisplay.from_estimator.\n",
      "  warnings.warn(msg, category=FutureWarning)\n"
     ]
    },
    {
     "name": "stdout",
     "output_type": "stream",
     "text": [
      "Akurasi Testing SVM: 0.8666666666666667\n",
      "Precison :  0.8763197586726998\n",
      "Recall :  0.8763197586727\n",
      "F Score :  0.8666666666666668\n"
     ]
    },
    {
     "data": {
      "image/png": "[encoded data removed]",
      "text/plain": [
       "<Figure size 640x480 with 2 Axes>"
      ]
     },
     "metadata": {},
     "output_type": "display_data"
    }
   ],
   "source": [
    "from sklearn.metrics import accuracy_score, plot_confusion_matrix\n",
    "plot_confusion_matrix(svm, X_test, y_test)\n",
    "accuracy = accuracy_score(y_test, y_pred)\n",
    "print('Akurasi Testing SVM:', accuracy)\n",
    "\n",
    "from sklearn.metrics import precision_recall_fscore_support\n",
    "P=precision_recall_fscore_support(y_test, y_pred, average='macro')\n",
    "print(\"Precison : \",P[0])\n",
    "print(\"Recall : \",P[1])\n",
    "print(\"F Score : \",P[2])"
   ]
  },
  {
   "cell_type": "markdown",
   "metadata": {
    "id": "1ueX9Dl7nxSn"
   },
   "source": [
    "### Hyperparameter SVM"
   ]
  },
  {
   "cell_type": "markdown",
   "metadata": {
    "id": "UfupuqdO8iTg"
   },
   "source": [
    "Saat menggunakan model SVM, beberapa parameter dapat diubah sesuai dengan kebutuhan, antara lain kernel (linear, polynomial, rbf), nilai C, dan nilai Gamma."
   ]
  },
  {
   "cell_type": "code",
   "execution_count": 16,
   "metadata": {
    "colab": {
     "base_uri": "https://localhost:8080/"
    },
    "id": "4c8iLaLSnwQm",
    "outputId": "5edaa902-7905-4345-dfc1-3c76871455aa"
   },
   "outputs": [
    {
     "name": "stdout",
     "output_type": "stream",
     "text": [
      "Akurasi dengan menggunakan Support Vector Machine Linear Kernel:  0.9777777777777777\n"
     ]
    }
   ],
   "source": [
    "# SVM dengan kernel Linear, nilai parameter C dapat diubah juga.\n",
    "svmLinear = SVC(\n",
    "  kernel = 'linear',\n",
    "      C = 1)\n",
    "\n",
    "svmLinear.fit(X_train, y_train)\n",
    "y_pred = svmLinear.predict(X_test)\n",
    "score = metrics.accuracy_score(y_test, y_pred)\n",
    "score_svmlk = score\n",
    "print(\"Akurasi dengan menggunakan Support Vector Machine Linear Kernel: \", score)"
   ]
  },
  {
   "cell_type": "code",
   "execution_count": 17,
   "metadata": {
    "id": "G2alo5CQ5iu0"
   },
   "outputs": [
    {
     "name": "stderr",
     "output_type": "stream",
     "text": [
      "C:\\Users\\Sadam\\anaconda3\\lib\\site-packages\\sklearn\\utils\\deprecation.py:87: FutureWarning: Function plot_confusion_matrix is deprecated; Function `plot_confusion_matrix` is deprecated in 1.0 and will be removed in 1.2. Use one of the class methods: ConfusionMatrixDisplay.from_predictions or ConfusionMatrixDisplay.from_estimator.\n",
      "  warnings.warn(msg, category=FutureWarning)\n"
     ]
    },
    {
     "name": "stdout",
     "output_type": "stream",
     "text": [
      "Akurasi Testing SVM: 0.9777777777777777\n",
      "Precison :  0.9761904761904763\n",
      "Recall :  0.9803921568627452\n",
      "F Score :  0.9775533108866442\n"
     ]
    },
    {
     "data": {
      "image/png": "[encoded data removed]",
      "text/plain": [
       "<Figure size 640x480 with 2 Axes>"
      ]
     },
     "metadata": {},
     "output_type": "display_data"
    }
   ],
   "source": [
    "from sklearn.metrics import accuracy_score, plot_confusion_matrix\n",
    "plot_confusion_matrix(svmLinear, X_test, y_test)\n",
    "accuracy = accuracy_score(y_test, y_pred)\n",
    "print('Akurasi Testing SVM:', accuracy)\n",
    "\n",
    "from sklearn.metrics import precision_recall_fscore_support\n",
    "P=precision_recall_fscore_support(y_test, y_pred, average='macro')\n",
    "print(\"Precison : \",P[0])\n",
    "print(\"Recall : \",P[1])\n",
    "print(\"F Score : \",P[2])"
   ]
  },
  {
   "cell_type": "code",
   "execution_count": 18,
   "metadata": {
    "colab": {
     "base_uri": "https://localhost:8080/"
    },
    "id": "ZKLM7cZEoKPY",
    "outputId": "27c47727-32b7-4e61-8c4f-4bca8527fd95"
   },
   "outputs": [
    {
     "name": "stdout",
     "output_type": "stream",
     "text": [
      "Akurasi dengan menggunakan Support Vector Machine Polynomial Kernel:  0.28888888888888886\n"
     ]
    }
   ],
   "source": [
    "# SVM dengan kernel polynomial, nilai parameter C, degree, dan gamma dapat diubah juga.\n",
    "svmPoly = SVC(\n",
    "  kernel = 'poly',\n",
    "  C = 1,\n",
    "  gamma = 0.01,\n",
    "  degree = 2\n",
    ")\n",
    "\n",
    "svmPoly.fit(X_train, y_train)\n",
    "y_pred = svmPoly.predict(X_test)\n",
    "score = metrics.accuracy_score(y_test, y_pred)\n",
    "score_svmpk = score\n",
    "print(\"Akurasi dengan menggunakan Support Vector Machine Polynomial Kernel: \", score)"
   ]
  },
  {
   "cell_type": "code",
   "execution_count": 19,
   "metadata": {
    "id": "u6jxBXZ75iu1"
   },
   "outputs": [
    {
     "name": "stderr",
     "output_type": "stream",
     "text": [
      "C:\\Users\\Sadam\\anaconda3\\lib\\site-packages\\sklearn\\utils\\deprecation.py:87: FutureWarning: Function plot_confusion_matrix is deprecated; Function `plot_confusion_matrix` is deprecated in 1.0 and will be removed in 1.2. Use one of the class methods: ConfusionMatrixDisplay.from_predictions or ConfusionMatrixDisplay.from_estimator.\n",
      "  warnings.warn(msg, category=FutureWarning)\n"
     ]
    },
    {
     "name": "stdout",
     "output_type": "stream",
     "text": [
      "Akurasi Testing NBC: 0.28888888888888886\n"
     ]
    },
    {
     "data": {
      "image/png": "[encoded data removed]",
      "text/plain": [
       "<Figure size 640x480 with 2 Axes>"
      ]
     },
     "metadata": {},
     "output_type": "display_data"
    }
   ],
   "source": [
    "from sklearn.metrics import accuracy_score, plot_confusion_matrix\n",
    "plot_confusion_matrix(svmPoly, X_test, y_test)\n",
    "accuracy = accuracy_score(y_test, y_pred)\n",
    "print('Akurasi Testing NBC:', accuracy)"
   ]
  },
  {
   "cell_type": "code",
   "execution_count": 20,
   "metadata": {
    "colab": {
     "base_uri": "https://localhost:8080/"
    },
    "id": "pnOb-C0toZfE",
    "outputId": "99c78695-a733-42ab-f7b8-35d87acba977"
   },
   "outputs": [
    {
     "name": "stdout",
     "output_type": "stream",
     "text": [
      "Akurasi dengan menggunakan Support Vector Machine RBF Kernel:  0.8666666666666667\n",
      "Precison :  0.8763197586726998\n",
      "Recall :  0.8763197586727\n",
      "F Score :  0.8666666666666668\n"
     ]
    }
   ],
   "source": [
    "# SVM dengan kernel RBF, nilai parameter C dan gamma dapat diubah juga.\n",
    "svmRBF = SVC(\n",
    "  kernel = 'rbf',\n",
    "  C = 1,\n",
    "  gamma = 0.01,\n",
    ")\n",
    "\n",
    "svmRBF.fit(X_train, y_train)\n",
    "y_pred = svmRBF.predict(X_test)\n",
    "score = metrics.accuracy_score(y_test, y_pred)\n",
    "score_svmrbfk = score\n",
    "print(\"Akurasi dengan menggunakan Support Vector Machine RBF Kernel: \", score)\n",
    "\n",
    "from sklearn.metrics import precision_recall_fscore_support\n",
    "P=precision_recall_fscore_support(y_test, y_pred, average='macro')\n",
    "print(\"Precison : \",P[0])\n",
    "print(\"Recall : \",P[1])\n",
    "print(\"F Score : \",P[2])"
   ]
  },
  {
   "cell_type": "code",
   "execution_count": 21,
   "metadata": {
    "id": "Yi3r6w-v5iu2"
   },
   "outputs": [
    {
     "name": "stderr",
     "output_type": "stream",
     "text": [
      "C:\\Users\\Sadam\\anaconda3\\lib\\site-packages\\sklearn\\utils\\deprecation.py:87: FutureWarning: Function plot_confusion_matrix is deprecated; Function `plot_confusion_matrix` is deprecated in 1.0 and will be removed in 1.2. Use one of the class methods: ConfusionMatrixDisplay.from_predictions or ConfusionMatrixDisplay.from_estimator.\n",
      "  warnings.warn(msg, category=FutureWarning)\n"
     ]
    },
    {
     "name": "stdout",
     "output_type": "stream",
     "text": [
      "Akurasi Testing NBC: 0.8666666666666667\n",
      "Precison :  0.8763197586726998\n",
      "Recall :  0.8763197586727\n",
      "F Score :  0.8666666666666668\n"
     ]
    },
    {
     "data": {
      "image/png": "[encoded data removed]",
      "text/plain": [
       "<Figure size 640x480 with 2 Axes>"
      ]
     },
     "metadata": {},
     "output_type": "display_data"
    }
   ],
   "source": [
    "from sklearn.metrics import accuracy_score, plot_confusion_matrix\n",
    "plot_confusion_matrix(svmRBF, X_test, y_test)\n",
    "accuracy = accuracy_score(y_test, y_pred)\n",
    "print('Akurasi Testing NBC:', accuracy)\n",
    "\n",
    "from sklearn.metrics import precision_recall_fscore_support\n",
    "P=precision_recall_fscore_support(y_test, y_pred, average='macro')\n",
    "print(\"Precison : \",P[0])\n",
    "print(\"Recall : \",P[1])\n",
    "print(\"F Score : \",P[2])"
   ]
  },
  {
   "cell_type": "markdown",
   "metadata": {
    "id": "N_eNB3GqnmeT"
   },
   "source": [
    "## 2.3 Decision Tree"
   ]
  },
  {
   "cell_type": "markdown",
   "metadata": {
    "id": "ICUB0M1y9tE9"
   },
   "source": [
    "Penjelasan lebih lengkap mengenai penggunaan Decision Tree dapat dilihat pada https://scikit-learn.org/stable/modules/generated/sklearn.tree.DecisionTreeClassifier.html#sklearn.tree.DecisionTreeClassifier"
   ]
  },
  {
   "cell_type": "code",
   "execution_count": 22,
   "metadata": {
    "colab": {
     "base_uri": "https://localhost:8080/"
    },
    "id": "crUBydu1onDR",
    "outputId": "2bd14c89-cd25-4e51-f664-772ef5d26373"
   },
   "outputs": [
    {
     "name": "stdout",
     "output_type": "stream",
     "text": [
      "Akurasi dengan menggunakan Decision Tree:  0.9555555555555556\n"
     ]
    }
   ],
   "source": [
    "from sklearn.tree import DecisionTreeClassifier\n",
    "from sklearn import metrics\n",
    "\n",
    "dt = DecisionTreeClassifier(\n",
    "  max_depth = None,\n",
    "  min_samples_split = 2\n",
    ")\n",
    "\n",
    "dt.fit(X_train, y_train)\n",
    "y_pred = dt.predict(X_test)\n",
    "score = metrics.accuracy_score(y_test, y_pred)\n",
    "score_dt = score\n",
    "print(\"Akurasi dengan menggunakan Decision Tree: \", score)"
   ]
  },
  {
   "cell_type": "code",
   "execution_count": 23,
   "metadata": {
    "id": "nA9OgBOl5iu3"
   },
   "outputs": [
    {
     "name": "stderr",
     "output_type": "stream",
     "text": [
      "C:\\Users\\Sadam\\anaconda3\\lib\\site-packages\\sklearn\\utils\\deprecation.py:87: FutureWarning: Function plot_confusion_matrix is deprecated; Function `plot_confusion_matrix` is deprecated in 1.0 and will be removed in 1.2. Use one of the class methods: ConfusionMatrixDisplay.from_predictions or ConfusionMatrixDisplay.from_estimator.\n",
      "  warnings.warn(msg, category=FutureWarning)\n"
     ]
    },
    {
     "name": "stdout",
     "output_type": "stream",
     "text": [
      "Akurasi Testing Decision Tree: 0.9555555555555556\n",
      "Precison :  0.9547511312217195\n",
      "Recall :  0.9547511312217195\n",
      "F Score :  0.9547511312217195\n"
     ]
    },
    {
     "data": {
      "image/png": "[encoded data removed]",
      "text/plain": [
       "<Figure size 640x480 with 2 Axes>"
      ]
     },
     "metadata": {},
     "output_type": "display_data"
    }
   ],
   "source": [
    "from sklearn.metrics import accuracy_score, plot_confusion_matrix\n",
    "plot_confusion_matrix(dt, X_test, y_test)\n",
    "accuracy = accuracy_score(y_test, y_pred)\n",
    "print('Akurasi Testing Decision Tree:', accuracy)\n",
    "\n",
    "from sklearn.metrics import precision_recall_fscore_support\n",
    "P=precision_recall_fscore_support(y_test, y_pred, average='macro')\n",
    "print(\"Precison : \",P[0])\n",
    "print(\"Recall : \",P[1])\n",
    "print(\"F Score : \",P[2])"
   ]
  },
  {
   "cell_type": "markdown",
   "metadata": {
    "id": "b51jAnSxpkfX"
   },
   "source": [
    "### Hyperparameter Decision Tree"
   ]
  },
  {
   "cell_type": "markdown",
   "metadata": {
    "id": "6ZIqKskM8yz1"
   },
   "source": [
    "Saat menggunakan model Decision Tree, beberapa parameter dapat diubah sesuai dengan kebutuhan, antara max_depth dan min_samples_split."
   ]
  },
  {
   "cell_type": "code",
   "execution_count": 24,
   "metadata": {
    "colab": {
     "base_uri": "https://localhost:8080/"
    },
    "id": "2khS1rfapS9i",
    "outputId": "9dbaf635-21c5-4197-ae23-9b044a42eca3",
    "scrolled": true
   },
   "outputs": [
    {
     "name": "stdout",
     "output_type": "stream",
     "text": [
      "Akurasi dengan menggunakan Decision Tree:  0.9555555555555556\n"
     ]
    }
   ],
   "source": [
    "# Decision Tree dengan maximal kedalaman adalah max_depth,\n",
    "# dan minimal jumlah sampel untuk dibentuk leaf baru adalah min_samples_split\n",
    "\n",
    "dt = DecisionTreeClassifier(\n",
    "  max_depth = 130,\n",
    "  min_samples_split = 5\n",
    ")\n",
    "\n",
    "dt.fit(X_train, y_train)\n",
    "y_pred = dt.predict(X_test)\n",
    "score = metrics.accuracy_score(y_test, y_pred)\n",
    "print(\"Akurasi dengan menggunakan Decision Tree: \", score)"
   ]
  },
  {
   "cell_type": "code",
   "execution_count": 25,
   "metadata": {
    "id": "JIroBoij5iu4"
   },
   "outputs": [
    {
     "name": "stderr",
     "output_type": "stream",
     "text": [
      "C:\\Users\\Sadam\\anaconda3\\lib\\site-packages\\sklearn\\utils\\deprecation.py:87: FutureWarning: Function plot_confusion_matrix is deprecated; Function `plot_confusion_matrix` is deprecated in 1.0 and will be removed in 1.2. Use one of the class methods: ConfusionMatrixDisplay.from_predictions or ConfusionMatrixDisplay.from_estimator.\n",
      "  warnings.warn(msg, category=FutureWarning)\n"
     ]
    },
    {
     "name": "stdout",
     "output_type": "stream",
     "text": [
      "Akurasi Testing NBC: 0.9555555555555556\n",
      "Precison :  0.9547511312217195\n",
      "Recall :  0.9547511312217195\n",
      "F Score :  0.9547511312217195\n"
     ]
    },
    {
     "data": {
      "image/png": "[encoded data removed]",
      "text/plain": [
       "<Figure size 640x480 with 2 Axes>"
      ]
     },
     "metadata": {},
     "output_type": "display_data"
    }
   ],
   "source": [
    "from sklearn.metrics import accuracy_score, plot_confusion_matrix\n",
    "plot_confusion_matrix(dt, X_test, y_test)\n",
    "accuracy = accuracy_score(y_test, y_pred)\n",
    "print('Akurasi Testing NBC:', accuracy)\n",
    "\n",
    "from sklearn.metrics import precision_recall_fscore_support\n",
    "P=precision_recall_fscore_support(y_test, y_pred, average='macro')\n",
    "print(\"Precison : \",P[0])\n",
    "print(\"Recall : \",P[1])\n",
    "print(\"F Score : \",P[2])"
   ]
  },
  {
   "cell_type": "markdown",
   "metadata": {
    "id": "VRw9nokWqI72"
   },
   "source": [
    "## 2.4 Naive Bayes"
   ]
  },
  {
   "cell_type": "markdown",
   "metadata": {
    "id": "M0yAABum9-77"
   },
   "source": [
    "Penjelasan lebih lengkap mengenai penggunaan Naive Bayes dapat dilihat pada https://scikit-learn.org/stable/modules/generated/sklearn.naive_bayes.BernoulliNB.html#sklearn.naive_bayes.BernoulliNB"
   ]
  },
  {
   "cell_type": "code",
   "execution_count": 26,
   "metadata": {
    "colab": {
     "base_uri": "https://localhost:8080/"
    },
    "id": "8u5I4DVvrRdO",
    "outputId": "2a9ad5e7-8a6b-4a8f-868d-97dbf927ecde"
   },
   "outputs": [
    {
     "name": "stdout",
     "output_type": "stream",
     "text": [
      "Akurasi dengan menggunakan Naive Bayes:  0.7777777777777778\n"
     ]
    }
   ],
   "source": [
    "from sklearn import naive_bayes\n",
    "from sklearn import metrics\n",
    "\n",
    "nb = naive_bayes.BernoulliNB()\n",
    "\n",
    "nb.fit(X_train, y_train)\n",
    "y_pred = nb.predict(X_test)\n",
    "score = metrics.accuracy_score(y_test, y_pred)\n",
    "score_nb = score\n",
    "print(\"Akurasi dengan menggunakan Naive Bayes: \", score)"
   ]
  },
  {
   "cell_type": "code",
   "execution_count": 27,
   "metadata": {
    "id": "yCmt_mX45iu5"
   },
   "outputs": [
    {
     "name": "stderr",
     "output_type": "stream",
     "text": [
      "C:\\Users\\Sadam\\anaconda3\\lib\\site-packages\\sklearn\\utils\\deprecation.py:87: FutureWarning: Function plot_confusion_matrix is deprecated; Function `plot_confusion_matrix` is deprecated in 1.0 and will be removed in 1.2. Use one of the class methods: ConfusionMatrixDisplay.from_predictions or ConfusionMatrixDisplay.from_estimator.\n",
      "  warnings.warn(msg, category=FutureWarning)\n"
     ]
    },
    {
     "name": "stdout",
     "output_type": "stream",
     "text": [
      "Akurasi Testing NBC: 0.7777777777777778\n",
      "Precison :  0.8428030303030303\n",
      "Recall :  0.8039215686274509\n",
      "F Score :  0.7646441372247824\n"
     ]
    },
    {
     "data": {
      "image/png": "[encoded data removed]",
      "text/plain": [
       "<Figure size 640x480 with 2 Axes>"
      ]
     },
     "metadata": {},
     "output_type": "display_data"
    }
   ],
   "source": [
    "from sklearn.metrics import accuracy_score, plot_confusion_matrix\n",
    "plot_confusion_matrix(nb, X_test, y_test)\n",
    "accuracy = accuracy_score(y_test, y_pred)\n",
    "print('Akurasi Testing NBC:', accuracy)\n",
    "\n",
    "from sklearn.metrics import precision_recall_fscore_support\n",
    "P=precision_recall_fscore_support(y_test, y_pred, average='macro')\n",
    "print(\"Precison : \",P[0])\n",
    "print(\"Recall : \",P[1])\n",
    "print(\"F Score : \",P[2])"
   ]
  },
  {
   "cell_type": "markdown",
   "metadata": {
    "id": "z2znVGrzqOFs"
   },
   "source": [
    "## 2.5 K-Nearest Neighbors"
   ]
  },
  {
   "cell_type": "markdown",
   "metadata": {
    "id": "QlVdwzp69-BQ"
   },
   "source": [
    "Penjelasan lebih lengkap mengenai penggunaan K-Nearest Neighbors dapat dilihat pada https://scikit-learn.org/stable/modules/generated/sklearn.neighbors.KNeighborsClassifier.html#sklearn.neighbors.KNeighborsClassifier"
   ]
  },
  {
   "cell_type": "code",
   "execution_count": 30,
   "metadata": {
    "colab": {
     "base_uri": "https://localhost:8080/"
    },
    "id": "abraY0V1uRcC",
    "outputId": "5bb5f72c-7fab-439a-e607-1a5df4927c79"
   },
   "outputs": [
    {
     "name": "stdout",
     "output_type": "stream",
     "text": [
      "Akurasi dengan menggunakan Nearest Neighbor:  0.9333333333333333\n"
     ]
    },
    {
     "name": "stderr",
     "output_type": "stream",
     "text": [
      "C:\\Users\\Sadam\\anaconda3\\lib\\site-packages\\sklearn\\neighbors\\_classification.py:228: FutureWarning: Unlike other reduction functions (e.g. `skew`, `kurtosis`), the default behavior of `mode` typically preserves the axis it acts along. In SciPy 1.11.0, this behavior will change: the default value of `keepdims` will become False, the `axis` over which the statistic is taken will be eliminated, and the value None will no longer be accepted. Set `keepdims` to True or False to avoid this warning.\n",
      "  mode, _ = stats.mode(_y[neigh_ind, k], axis=1)\n"
     ]
    }
   ],
   "source": [
    "from sklearn.neighbors import KNeighborsClassifier\n",
    "from sklearn import metrics\n",
    "\n",
    "knn = KNeighborsClassifier()\n",
    "\n",
    "knn.fit(X_train, y_train)\n",
    "y_pred = knn.predict(X_test)\n",
    "score = metrics.accuracy_score(y_test, y_pred)\n",
    "score_knn = score\n",
    "print(\"Akurasi dengan menggunakan Nearest Neighbor: \", score)"
   ]
  },
  {
   "cell_type": "code",
   "execution_count": 31,
   "metadata": {
    "id": "JGoHzXE-5iu6",
    "scrolled": true
   },
   "outputs": [
    {
     "name": "stderr",
     "output_type": "stream",
     "text": [
      "C:\\Users\\Sadam\\anaconda3\\lib\\site-packages\\sklearn\\utils\\deprecation.py:87: FutureWarning: Function plot_confusion_matrix is deprecated; Function `plot_confusion_matrix` is deprecated in 1.0 and will be removed in 1.2. Use one of the class methods: ConfusionMatrixDisplay.from_predictions or ConfusionMatrixDisplay.from_estimator.\n",
      "  warnings.warn(msg, category=FutureWarning)\n",
      "C:\\Users\\Sadam\\anaconda3\\lib\\site-packages\\sklearn\\neighbors\\_classification.py:228: FutureWarning: Unlike other reduction functions (e.g. `skew`, `kurtosis`), the default behavior of `mode` typically preserves the axis it acts along. In SciPy 1.11.0, this behavior will change: the default value of `keepdims` will become False, the `axis` over which the statistic is taken will be eliminated, and the value None will no longer be accepted. Set `keepdims` to True or False to avoid this warning.\n",
      "  mode, _ = stats.mode(_y[neigh_ind, k], axis=1)\n"
     ]
    },
    {
     "name": "stdout",
     "output_type": "stream",
     "text": [
      "Akurasi Testing K-NN: 0.9333333333333333\n",
      "Precison :  0.9373219373219372\n",
      "Recall :  0.9325289089994971\n",
      "F Score :  0.9342932929139826\n"
     ]
    },
    {
     "data": {
      "image/png": "[encoded data removed]",
      "text/plain": [
       "<Figure size 640x480 with 2 Axes>"
      ]
     },
     "metadata": {},
     "output_type": "display_data"
    }
   ],
   "source": [
    "from sklearn.metrics import accuracy_score, plot_confusion_matrix\n",
    "\n",
    "\n",
    "plot_confusion_matrix(knn, X_test, y_test)\n",
    "accuracy = accuracy_score(y_test, y_pred)\n",
    "print('Akurasi Testing K-NN:', accuracy)\n",
    "\n",
    "from sklearn.metrics import precision_recall_fscore_support\n",
    "P=precision_recall_fscore_support(y_test, y_pred, average='macro')\n",
    "print(\"Precison : \",P[0])\n",
    "print(\"Recall : \",P[1])\n",
    "print(\"F Score : \",P[2])"
   ]
  },
  {
   "cell_type": "markdown",
   "metadata": {
    "id": "lQxdOlfB5iu6"
   },
   "source": [
    "## 2.6 AdaBoostClassifier"
   ]
  },
  {
   "cell_type": "code",
   "execution_count": 32,
   "metadata": {
    "id": "MX27sbud5iu6"
   },
   "outputs": [],
   "source": [
    "from sklearn.ensemble import AdaBoostClassifier\n",
    "from sklearn import metrics"
   ]
  },
  {
   "cell_type": "code",
   "execution_count": 33,
   "metadata": {
    "id": "FteiNAHE5iu7",
    "outputId": "707a3380-61e1-4014-c00f-89571e9a631a"
   },
   "outputs": [
    {
     "name": "stdout",
     "output_type": "stream",
     "text": [
      "Akurasi dengan menggunakan AdaBoostClassifier:  0.9555555555555556\n"
     ]
    }
   ],
   "source": [
    "ab=AdaBoostClassifier(\n",
    "n_estimators=600,\n",
    "learning_rate=1\n",
    ")\n",
    "ab.fit(X_train, y_train)\n",
    "y_pred = ab.predict(X_test)\n",
    "score = metrics.accuracy_score(y_test, y_pred)\n",
    "score_ab = score\n",
    "print(\"Akurasi dengan menggunakan AdaBoostClassifier: \", score)"
   ]
  },
  {
   "cell_type": "code",
   "execution_count": 34,
   "metadata": {
    "id": "ewPuu-iR5iu7"
   },
   "outputs": [
    {
     "name": "stdout",
     "output_type": "stream",
     "text": [
      "Akurasi Testing adaBoost: 0.9555555555555556\n",
      "Precison :  0.9547511312217195\n",
      "Recall :  0.9547511312217195\n",
      "F Score :  0.9547511312217195\n"
     ]
    },
    {
     "name": "stderr",
     "output_type": "stream",
     "text": [
      "C:\\Users\\Sadam\\anaconda3\\lib\\site-packages\\sklearn\\utils\\deprecation.py:87: FutureWarning: Function plot_confusion_matrix is deprecated; Function `plot_confusion_matrix` is deprecated in 1.0 and will be removed in 1.2. Use one of the class methods: ConfusionMatrixDisplay.from_predictions or ConfusionMatrixDisplay.from_estimator.\n",
      "  warnings.warn(msg, category=FutureWarning)\n"
     ]
    },
    {
     "data": {
      "image/png": "[encoded data removed]",
      "text/plain": [
       "<Figure size 640x480 with 2 Axes>"
      ]
     },
     "metadata": {},
     "output_type": "display_data"
    }
   ],
   "source": [
    "from sklearn.metrics import accuracy_score, plot_confusion_matrix\n",
    "plot_confusion_matrix(dt, X_test, y_test)\n",
    "accuracy = accuracy_score(y_test, y_pred)\n",
    "print('Akurasi Testing adaBoost:', accuracy)\n",
    "\n",
    "from sklearn.metrics import precision_recall_fscore_support\n",
    "P=precision_recall_fscore_support(y_test, y_pred, average='macro')\n",
    "print(\"Precison : \",P[0])\n",
    "print(\"Recall : \",P[1])\n",
    "print(\"F Score : \",P[2])"
   ]
  },
  {
   "cell_type": "markdown",
   "metadata": {
    "id": "1ScdAwPN5iu7"
   },
   "source": [
    "## Perbandingan Hasil Klasifikasi Data Pendaftar Untuk Berbagai Metoda Klasifikasi :\n",
    " "
   ]
  },
  {
   "cell_type": "code",
   "execution_count": 35,
   "metadata": {
    "executionInfo": {
     "elapsed": 6,
     "status": "ok",
     "timestamp": 1675153171477,
     "user": {
      "displayName": "herianto yunus",
      "userId": "11483525927810406544"
     },
     "user_tz": -420
    },
    "id": "I7fRVGgy5iu7"
   },
   "outputs": [
    {
     "name": "stdout",
     "output_type": "stream",
     "text": [
      "Akurasi dengan menggunakan Logistic Regression:  0.9555555555555556\n",
      "Akurasi dengan menggunakan Support Vector Machine:  0.8666666666666667\n",
      "Akurasi dengan menggunakan Support Vector Machine Linear Kernel:  0.9777777777777777\n",
      "Akurasi dengan menggunakan Support Vector Machine Polynomial Kernel:  0.28888888888888886\n",
      "Akurasi dengan menggunakan Support Vector Machine RBF Kernel:  0.8666666666666667\n",
      "Akurasi dengan menggunakan Decision Tree:  0.9555555555555556\n",
      "Akurasi dengan menggunakan Naive Bayes:  0.7777777777777778\n",
      "Akurasi dengan menggunakan K-Nearest Neighbour:  0.9333333333333333\n",
      "Akurasi dengan menggunakan AdaBoost Classifier:  0.9555555555555556\n"
     ]
    }
   ],
   "source": [
    "#Lengkapi koding untuk menampilkan di sini semua parameter evaluasi untuk semua model/algoritima klasifikasi di atas\n",
    "#Tampilkan di sini semua parameter evaluasi untuk semua model klasifikasi\n",
    "print(\"Akurasi dengan menggunakan Logistic Regression: \", score_lr)\n",
    "print(\"Akurasi dengan menggunakan Support Vector Machine: \", score_svm)\n",
    "print(\"Akurasi dengan menggunakan Support Vector Machine Linear Kernel: \", score_svmlk)\n",
    "print(\"Akurasi dengan menggunakan Support Vector Machine Polynomial Kernel: \", score_svmpk)\n",
    "print(\"Akurasi dengan menggunakan Support Vector Machine RBF Kernel: \", score_svmrbfk)\n",
    "print(\"Akurasi dengan menggunakan Decision Tree: \", score_dt)\n",
    "print(\"Akurasi dengan menggunakan Naive Bayes: \", score_nb)\n",
    "print(\"Akurasi dengan menggunakan K-Nearest Neighbour: \", score_knn)\n",
    "print(\"Akurasi dengan menggunakan AdaBoost Classifier: \", score_ab)\n"
   ]
  },
  {
   "cell_type": "markdown",
   "metadata": {
    "id": "FMaw8EAD5iu8"
   },
   "source": [
    "---"
   ]
  },
  {
   "cell_type": "markdown",
   "metadata": {
    "id": "y-gg5QAP5iu8"
   },
   "source": [
    "## Pilih satu satu Algortima yang hasil trainingnya terbaik menurut anda dan Menyimpan model dengan pickle  Gunakan untuk anda Deploy dalam bentuk aplikasi streamlit dan upload ke streamlit"
   ]
  },
  {
   "cell_type": "code",
   "execution_count": 38,
   "metadata": {},
   "outputs": [
    {
     "name": "stdout",
     "output_type": "stream",
     "text": [
      "Akurasi dengan menggunakan Logistic Regression:  0.9555555555555556\n"
     ]
    }
   ],
   "source": [
    "from sklearn.linear_model import LogisticRegression\n",
    "from sklearn import metrics\n",
    "\n",
    "lr = LogisticRegression()\n",
    "\n",
    "lr.fit(X_train, y_train)\n",
    "y_pred = lr.predict(X_test)\n",
    "score = metrics.accuracy_score(y_test, y_pred)\n",
    "score_lr = score\n",
    "print(\"Akurasi dengan menggunakan Logistic Regression: \", score)"
   ]
  },
  {
   "cell_type": "code",
   "execution_count": 40,
   "metadata": {
    "id": "FfMT-s6f5iu8"
   },
   "outputs": [],
   "source": [
    "#import ke pickle\n",
    "import pickle\n",
    "\n",
    "pickle.dump(lr,open('model.pkl','wb'))"
   ]
  }
 ],
 "metadata": {
  "colab": {
   "provenance": []
  },
  "kernelspec": {
   "display_name": "Python 3 (ipykernel)",
   "language": "python",
   "name": "python3"
  },
  "language_info": {
   "codemirror_mode": {
    "name": "ipython",
    "version": 3
   },
   "file_extension": ".py",
   "mimetype": "text/x-python",
   "name": "python",
   "nbconvert_exporter": "python",
   "pygments_lexer": "ipython3",
   "version": "3.9.13"
  }
 },
 "nbformat": 4,
 "nbformat_minor": 1
}
